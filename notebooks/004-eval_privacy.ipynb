{
 "cells": [
  {
   "cell_type": "code",
   "execution_count": 1,
   "id": "3eeb6ddc",
   "metadata": {},
   "outputs": [
    {
     "name": "stderr",
     "output_type": "stream",
     "text": [
      "<frozen importlib._bootstrap>:228: RuntimeWarning: scipy._lib.messagestream.MessageStream size changed, may indicate binary incompatibility. Expected 56 from C header, got 64 from PyObject\n"
     ]
    }
   ],
   "source": [
    "import sys\n",
    "sys.path.append('..')\n",
    "\n",
    "import os\n",
    "import pickle\n",
    "from collections import OrderedDict\n",
    "import torch\n",
    "\n",
    "import numpy as np\n",
    "import pandas as pd\n",
    "import scipy as sp\n",
    "\n",
    "# import tensorflow as tf\n",
    "# from tensorflow.keras import Model, Input, losses, layers, optimizers\n",
    "\n",
    "from xgboost import XGBClassifier\n",
    "\n",
    "from sklearn.model_selection import train_test_split\n",
    "from sklearn.metrics import accuracy_score\n",
    "from sklearn.metrics import f1_score\n",
    "\n",
    "from matplotlib import pyplot as plt\n",
    "from matplotlib.colors import BoundaryNorm\n",
    "import seaborn as sns\n",
    "\n",
    "import itertools\n",
    "\n",
    "from src.datasets import adults\n",
    "from src.evaluation import data_benchmark\n",
    "from scripts import resample_privacy"
   ]
  },
  {
   "cell_type": "markdown",
   "id": "35df6c44",
   "metadata": {},
   "source": [
    "# Load the original data"
   ]
  },
  {
   "cell_type": "code",
   "execution_count": 2,
   "id": "a39dbaad",
   "metadata": {},
   "outputs": [],
   "source": [
    "x_cat = np.load('../data/adult/X_cat_train.npy', allow_pickle=True)\n",
    "x_num = np.load('../data/adult/X_num_train.npy', allow_pickle=True)\n",
    "y = np.load('../data/adult/y_train.npy', allow_pickle=True)\n",
    "y = y.reshape(-1,1)\n",
    "\n",
    "x_train = np.concatenate([x_cat, y], axis=1)\n",
    "data_orig = np.concatenate([x_train, x_num], axis=1)\n",
    "# data_synth = pd.DataFrame(data_synth, columns=cat_cols+cont_cols)"
   ]
  },
  {
   "cell_type": "markdown",
   "id": "caf1a756",
   "metadata": {},
   "source": [
    "# Load the synthetic data"
   ]
  },
  {
   "cell_type": "code",
   "execution_count": 3,
   "id": "14bdd21f",
   "metadata": {},
   "outputs": [],
   "source": [
    "x_cat = np.load('../exp/adult/vanilla/5/X_cat_train.npy', allow_pickle=True)\n",
    "x_num = np.load('../exp/adult/vanilla/5/X_num_train.npy', allow_pickle=True)\n",
    "y = np.load('../exp/adult/vanilla/5/y_train.npy', allow_pickle=True)\n",
    "y = y.reshape(-1,1)\n",
    "\n",
    "x_train = np.concatenate([x_cat, y], axis=1)\n",
    "data_synth = np.concatenate([x_train, x_num], axis=1)\n",
    "# data_synth = pd.DataFrame(data_synth, columns=cat_cols+cont_cols)"
   ]
  },
  {
   "cell_type": "markdown",
   "id": "24ea3b88",
   "metadata": {},
   "source": [
    "# Run DCR + NNDR privacy evaluation"
   ]
  },
  {
   "cell_type": "code",
   "execution_count": 5,
   "id": "5b0b1f8d",
   "metadata": {},
   "outputs": [
    {
     "ename": "NameError",
     "evalue": "name 'privacy_metrics' is not defined",
     "output_type": "error",
     "traceback": [
      "\u001b[1;31m---------------------------------------------------------------------------\u001b[0m",
      "\u001b[1;31mNameError\u001b[0m                                 Traceback (most recent call last)",
      "Cell \u001b[1;32mIn[5], line 1\u001b[0m\n\u001b[1;32m----> 1\u001b[0m \u001b[38;5;28mprint\u001b[39m(\u001b[43mprivacy_metrics\u001b[49m(\u001b[38;5;124m'\u001b[39m\u001b[38;5;124m../data/adult/\u001b[39m\u001b[38;5;124m'\u001b[39m,\u001b[38;5;124m'\u001b[39m\u001b[38;5;124m../exp/adult/vanilla/5/\u001b[39m\u001b[38;5;124m'\u001b[39m ))\n",
      "\u001b[1;31mNameError\u001b[0m: name 'privacy_metrics' is not defined"
     ]
    }
   ],
   "source": [
    "print(privacy_metrics('../data/adult/','../exp/adult/vanilla/5/' ))"
   ]
  }
 ],
 "metadata": {
  "kernelspec": {
   "display_name": "Python 3 (ipykernel)",
   "language": "python",
   "name": "python3"
  },
  "language_info": {
   "codemirror_mode": {
    "name": "ipython",
    "version": 3
   },
   "file_extension": ".py",
   "mimetype": "text/x-python",
   "name": "python",
   "nbconvert_exporter": "python",
   "pygments_lexer": "ipython3",
   "version": "3.9.18"
  }
 },
 "nbformat": 4,
 "nbformat_minor": 5
}
