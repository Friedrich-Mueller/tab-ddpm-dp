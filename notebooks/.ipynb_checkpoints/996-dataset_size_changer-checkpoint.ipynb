{
 "cells": [
  {
   "cell_type": "code",
   "execution_count": 1,
   "id": "00b11019",
   "metadata": {},
   "outputs": [],
   "source": [
    "import os\n",
    "\n",
    "import numpy as np\n",
    "import pandas as pd\n",
    "import scipy as sp\n",
    "\n",
    "# import tensorflow as tf\n",
    "# from tensorflow.keras import Model, Input, losses, layers, optimizers\n",
    "\n",
    "import torch\n",
    "import torch.nn as nn\n",
    "import torch.nn.functional as F\n",
    "from torch.utils.data import Dataset, DataLoader\n",
    "\n",
    "from sklearn.model_selection import train_test_split\n",
    "# from sklearn.metrics import accuracy_score\n",
    "# from sklearn.metrics import f1_score\n",
    "\n",
    "from matplotlib import pyplot as plt\n",
    "# from matplotlib.colors import BoundaryNorm\n",
    "# import seaborn as sns\n",
    "\n",
    "# import itertools\n",
    "from tqdm.auto import trange, tqdm\n",
    "\n",
    "from pathlib import Path\n",
    "\n",
    "# from src.datasets import adults\n",
    "# from src.evaluation import data_benchmark\n",
    "# from src.models import vae_keras\n",
    "# from src.datasets import adults#, dataset_utils\n",
    "\n",
    "# print(tf.config.list_physical_devices('GPU'))\n",
    "# tf.debugging.set_log_device_placement(True)\n",
    "\n",
    "os.environ['TF_CPP_MIN_LOG_LEVEL'] = '3'\n",
    "\n",
    "# import tensorflow as tf\n",
    "# for gpu in tf.config.list_physical_devices('GPU'):\n",
    "#     tf.config.experimental.set_memory_growth(gpu, True)"
   ]
  },
  {
   "cell_type": "code",
   "execution_count": 2,
   "id": "0e5b0ee4",
   "metadata": {},
   "outputs": [],
   "source": [
    "# Returns a Test dataset that contains an equal amounts of each class\n",
    "# y should contain only two classes 0 and 1\n",
    "def TrainSplitEqualBinary(X, y, samples_n): #samples_n per class\n",
    "\n",
    "    # Generate a random permutation of indices\n",
    "    ixs = np.random.permutation(len(X))\n",
    "\n",
    "    # Shuffle X and y using the same random indices\n",
    "    X = X[ixs]\n",
    "    y = y[ixs]\n",
    "    \n",
    "    indicesClass1 = []\n",
    "    indicesClass2 = []\n",
    "    \n",
    "    for i in range(0, len(y)):\n",
    "        if y[i] == 0 and len(indicesClass1) < samples_n:\n",
    "            indicesClass1.append(i)\n",
    "        elif y[i] == 1 and len(indicesClass2) < samples_n:\n",
    "            indicesClass2.append(i)\n",
    "            \n",
    "        if len(indicesClass1) == samples_n and len(indicesClass2) == samples_n:\n",
    "            break\n",
    "    \n",
    "    X_class1 = X[indicesClass1]\n",
    "    X_class2 = X[indicesClass2]\n",
    "    \n",
    "    X_bal = np.concatenate((X_class1,X_class2), axis=0)\n",
    "    \n",
    "    #remove x_test from X\n",
    "    X_rest = np.delete(X, indicesClass1 + indicesClass2, axis=0)\n",
    "    \n",
    "    Y_class1 = y[indicesClass1]\n",
    "    Y_class2 = y[indicesClass2]\n",
    "    \n",
    "    y_bal = np.concatenate((Y_class1,Y_class2), axis=0)\n",
    "    \n",
    "    #remove y_test from y\n",
    "    y_rest = np.delete(y, indicesClass1 + indicesClass2, axis=0)\n",
    "    \n",
    "    if (X_bal.shape[0] != 2 * samples_n or y_bal.shape[0] != 2 * samples_n):\n",
    "        raise Exception(\"Problem with split 1!\")\n",
    "        \n",
    "    if (X_bal.shape[0] + X_rest.shape[0] != X.shape[0] or y_bal.shape[0] + y_rest.shape[0] != y.shape[0]):\n",
    "        raise Exception(\"Problem with split 2!\")\n",
    "    \n",
    "    return X_bal, y_bal"
   ]
  },
  {
   "cell_type": "markdown",
   "id": "0308b22b-7b30-46a1-aa35-40e3d8cd04c6",
   "metadata": {},
   "source": [
    "## Balance data"
   ]
  },
  {
   "cell_type": "code",
   "execution_count": 4,
   "id": "b002fa57",
   "metadata": {},
   "outputs": [
    {
     "name": "stdout",
     "output_type": "stream",
     "text": [
      "<class 'numpy.ndarray'>\n",
      "(array([0, 1]), array([19775,  6273]))\n",
      "(26048, 8) (26048, 6) (26048,)\n",
      "(12546, 8) (12546, 6) (12546,)\n",
      "(12546, 8) (12546, 6) (12546,)\n"
     ]
    }
   ],
   "source": [
    "x_cat = np.load('/home/fjunpop/tab-ddpm/data/adult/X_cat_train_backup.npy', allow_pickle=True)\n",
    "x_num = np.load('/home/fjunpop/tab-ddpm/data/adult/X_num_train_backup.npy', allow_pickle=True)\n",
    "y = np.load('/home/fjunpop/tab-ddpm/data/adult/y_train_backup.npy', allow_pickle=True)\n",
    "\n",
    "print(type(y))\n",
    "print(np.unique(y, return_counts=True))\n",
    "print(x_cat.shape, x_num.shape, y.shape)\n",
    "\n",
    "x_train = np.concatenate([x_cat, x_num], axis=1)\n",
    "\n",
    "x_train_bal, y_train_bal= TrainSplitEqualBinary(x_train, y, 6273) \n",
    "\n",
    "x_new_cat = x_train_bal[:,:8]\n",
    "x_new_num = x_train_bal[:,8:].astype(np.float32)\n",
    "y_new = y_train_bal\n",
    "\n",
    "\n",
    "print(x_new_cat.shape, x_new_num.shape, y_new.shape)\n",
    "\n",
    "np.save('/home/fjunpop/tab-ddpm/data/adult/X_cat_train.npy', x_new_cat[:,:8]) \n",
    "np.save('/home/fjunpop/tab-ddpm/data/adult/X_num_train.npy', x_new_num) \n",
    "np.save('/home/fjunpop/tab-ddpm/data/adult/y_train.npy', y_new) \n",
    "\n",
    "\n",
    "x_cat = np.load('/home/fjunpop/tab-ddpm/data/adult/X_cat_train.npy', allow_pickle=True)\n",
    "x_num = np.load('/home/fjunpop/tab-ddpm/data/adult/X_num_train.npy', allow_pickle=True)\n",
    "y = np.load('/home/fjunpop/tab-ddpm/data/adult/y_train.npy', allow_pickle=True)\n",
    "\n",
    "print(x_cat.shape, x_num.shape, y.shape)\n",
    "\n",
    "\n",
    "# print(x_train.shape)\n",
    "\n",
    "# print(x_cat[:,-1])"
   ]
  },
  {
   "cell_type": "markdown",
   "id": "db1c02b1-5c9e-4d21-9084-ffdd73c8fae9",
   "metadata": {},
   "source": [
    "## Restore default datasets"
   ]
  },
  {
   "cell_type": "code",
   "execution_count": 8,
   "id": "12ea2042-5599-4f9c-b47d-61e2052489c1",
   "metadata": {},
   "outputs": [
    {
     "name": "stdout",
     "output_type": "stream",
     "text": [
      "(26048, 8) (26048, 6) (26048,)\n",
      "(26048, 8) (26048, 6) (26048,)\n"
     ]
    }
   ],
   "source": [
    "x_cat = np.load('/home/fjunpop/tab-ddpm/data/adult/X_cat_train_backup.npy', allow_pickle=True)\n",
    "x_num = np.load('/home/fjunpop/tab-ddpm/data/adult/X_num_train_backup.npy', allow_pickle=True)\n",
    "y = np.load('/home/fjunpop/tab-ddpm/data/adult/y_train_backup.npy', allow_pickle=True)\n",
    "\n",
    "print(x_cat.shape, x_num.shape, y.shape)\n",
    "\n",
    "\n",
    "np.save('/home/fjunpop/tab-ddpm/data/adult/X_cat_train.npy', x_cat) \n",
    "np.save('/home/fjunpop/tab-ddpm/data/adult/X_num_train.npy', x_num) \n",
    "np.save('/home/fjunpop/tab-ddpm/data/adult/y_train.npy', y) \n",
    "\n",
    "x_cat = np.load('/home/fjunpop/tab-ddpm/data/adult/X_cat_train.npy', allow_pickle=True)\n",
    "x_num = np.load('/home/fjunpop/tab-ddpm/data/adult/X_num_train.npy', allow_pickle=True)\n",
    "y = np.load('/home/fjunpop/tab-ddpm/data/adult/y_train.npy', allow_pickle=True)\n",
    "\n",
    "print(x_cat.shape, x_num.shape, y.shape)\n",
    "\n"
   ]
  },
  {
   "cell_type": "markdown",
   "id": "7020b175-b500-4f3e-b10b-e63c6cc064b5",
   "metadata": {},
   "source": [
    "## Check current sizes"
   ]
  },
  {
   "cell_type": "code",
   "execution_count": 5,
   "id": "c902532e-cbe9-452d-8f0a-21bd1c44a128",
   "metadata": {},
   "outputs": [
    {
     "name": "stdout",
     "output_type": "stream",
     "text": [
      "(12546, 8) (12546, 6) (12546,)\n"
     ]
    }
   ],
   "source": [
    "x_cat = np.load('/home/fjunpop/tab-ddpm/data/adult/X_cat_train.npy', allow_pickle=True)\n",
    "x_num = np.load('/home/fjunpop/tab-ddpm/data/adult/X_num_train.npy', allow_pickle=True)\n",
    "y = np.load('/home/fjunpop/tab-ddpm/data/adult/y_train.npy', allow_pickle=True)\n",
    "\n",
    "print(x_cat.shape, x_num.shape, y.shape)\n"
   ]
  },
  {
   "cell_type": "code",
   "execution_count": null,
   "id": "bda5856b-fa75-4afc-b352-fd6753cb8d26",
   "metadata": {},
   "outputs": [],
   "source": []
  }
 ],
 "metadata": {
  "kernelspec": {
   "display_name": "Python 3 (ipykernel)",
   "language": "python",
   "name": "python3"
  },
  "language_info": {
   "codemirror_mode": {
    "name": "ipython",
    "version": 3
   },
   "file_extension": ".py",
   "mimetype": "text/x-python",
   "name": "python",
   "nbconvert_exporter": "python",
   "pygments_lexer": "ipython3",
   "version": "3.9.18"
  }
 },
 "nbformat": 4,
 "nbformat_minor": 5
}
